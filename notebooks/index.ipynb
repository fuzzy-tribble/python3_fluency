{
 "cells": [
  {
   "cell_type": "markdown",
   "metadata": {
    "Collapsed": "false"
   },
   "source": [
    "# Python Fluency Workbook Series\n",
    "\n",
    "*Master Python Fundamentals*"
   ]
  },
  {
   "cell_type": "markdown",
   "metadata": {
    "Collapsed": "false"
   },
   "source": [
    "<img src=\"figures/python.jpeg\"></img>"
   ]
  },
  {
   "cell_type": "markdown",
   "metadata": {
    "Collapsed": "false"
   },
   "source": [
    "Bla bla bla"
   ]
  },
  {
   "cell_type": "markdown",
   "metadata": {
    "Collapsed": "false"
   },
   "source": [
    "# Table of Contents"
   ]
  },
  {
   "cell_type": "markdown",
   "metadata": {
    "Collapsed": "false"
   },
   "source": [
    "### [Python3 Fluency Workbook: Control Flow](00.00-Control-Flow.ipynb)\n",
    "\n",
    "### [1. Python3 Fluency Workbook: Data Structures](01.00-Data-Structures.ipynb)\n",
    "\n",
    "### [3. Python3 Fluency Workbook: Functions](03.00-Functions.ipynb)\n",
    "\n",
    "### [4. Python3 Fluency Workbook: Classes](04.00-Classes.ipynb)\n",
    "\n",
    "### [5. Python3 Fluency Workbook: Permutations and Combinations](05.00-Permutations-and-Combinations.ipynb)\n",
    "\n",
    "### [Python3 Fluency Workbook: Logging, Errors and Exceptions](06.00-Logging-Errors-and-Exceptions.ipynb)\n",
    "\n",
    "### [7. Python3 Fluency Workbook: Decorators](07.00-Decorators.ipynb)\n",
    "\n",
    " ###################################################################### \n",
    "\n",
    "\n",
    "### [Python3 Fluency Workbook: Control Flow](https://nbviewer.jupyter.org/github/nancynobody/python3_fluency/tree/master/notebooks/00.00-Control-Flow.ipynb)\n",
    "\n",
    "### [1. Python3 Fluency Workbook: Data Structures](https://nbviewer.jupyter.org/github/nancynobody/python3_fluency/tree/master/notebooks/01.00-Data-Structures.ipynb)\n",
    "\n",
    "### [3. Python3 Fluency Workbook: Functions](https://nbviewer.jupyter.org/github/nancynobody/python3_fluency/tree/master/notebooks/03.00-Functions.ipynb)\n",
    "\n",
    "### [4. Python3 Fluency Workbook: Classes](https://nbviewer.jupyter.org/github/nancynobody/python3_fluency/tree/master/notebooks/04.00-Classes.ipynb)\n",
    "\n",
    "### [5. Python3 Fluency Workbook: Permutations and Combinations](https://nbviewer.jupyter.org/github/nancynobody/python3_fluency/tree/master/notebooks/05.00-Permutations-and-Combinations.ipynb)\n",
    "\n",
    "### [Python3 Fluency Workbook: Logging, Errors and Exceptions](https://nbviewer.jupyter.org/github/nancynobody/python3_fluency/tree/master/notebooks/06.00-Logging-Errors-and-Exceptions.ipynb)\n",
    "\n",
    "### [7. Python3 Fluency Workbook: Decorators](https://nbviewer.jupyter.org/github/nancynobody/python3_fluency/tree/master/notebooks/07.00-Decorators.ipynb)"
   ]
  },
  {
   "cell_type": "code",
   "execution_count": null,
   "metadata": {
    "Collapsed": "false"
   },
   "outputs": [],
   "source": []
  }
 ],
 "metadata": {
  "kernelspec": {
   "display_name": "Python 3",
   "language": "python",
   "name": "python3"
  },
  "language_info": {
   "codemirror_mode": {
    "name": "ipython",
    "version": 3
   },
   "file_extension": ".py",
   "mimetype": "text/x-python",
   "name": "python",
   "nbconvert_exporter": "python",
   "pygments_lexer": "ipython3",
   "version": "3.7.5"
  }
 },
 "nbformat": 4,
 "nbformat_minor": 4
}
