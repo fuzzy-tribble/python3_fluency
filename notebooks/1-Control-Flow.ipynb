{
 "cells": [
  {
   "cell_type": "markdown",
   "metadata": {
    "Collapsed": "true",
    "heading_collapsed": true
   },
   "source": [
    "# Control Flow in Python\n",
    "\n",
    "**Purpose:** To help you get practiced and comfortable with the topics outlined below.\n",
    "\n",
    "**Recomended Usage**\n",
    "* Run each of the cells (Shift+Enter) and edit them as necessary to solidify your understanding\n",
    "* Do any of the exercises that are relevant to helping you understand the material\n",
    "\n",
    "**Topics Covered**\n",
    "* Conditional Statements\n",
    "* Loops"
   ]
  },
  {
   "cell_type": "markdown",
   "metadata": {
    "Collapsed": "false"
   },
   "source": [
    "# Workbook Setup"
   ]
  },
  {
   "cell_type": "markdown",
   "metadata": {
    "Collapsed": "false"
   },
   "source": [
    "The following magics will reload all modules before executing a new line and help make sure you follow PEP8 code style."
   ]
  },
  {
   "cell_type": "code",
   "execution_count": 1,
   "metadata": {
    "Collapsed": "false"
   },
   "outputs": [],
   "source": [
    "%load_ext autoreload\n",
    "%autoreload 2\n",
    "\n",
    "%load_ext pycodestyle_magic\n",
    "%pycodestyle_on"
   ]
  },
  {
   "cell_type": "markdown",
   "metadata": {
    "Collapsed": "false"
   },
   "source": [
    "# Control Flow\n",
    "\n",
    "Controlling the execution flow of code using conditions and loops"
   ]
  },
  {
   "cell_type": "markdown",
   "metadata": {
    "Collapsed": "false"
   },
   "source": [
    "## Conditional Statements: `if`, `elif`, `else`\n",
    "\n",
    "If statements are used to do specific things based on conditions. Their general syntax is below\n",
    "\n",
    "```python\n",
    "if boolean_expression:\n",
    "    # do something\n",
    "elif boolean_expression:\n",
    "    # do something else\n",
    "else:\n",
    "    # do something else\n",
    "```"
   ]
  },
  {
   "cell_type": "markdown",
   "metadata": {
    "Collapsed": "false"
   },
   "source": [
    "The following statements show an `if` followed by something that evaluates to a boolean expression (`True` or `False`)."
   ]
  },
  {
   "cell_type": "code",
   "execution_count": 2,
   "metadata": {
    "Collapsed": "false"
   },
   "outputs": [
    {
     "name": "stdout",
     "output_type": "stream",
     "text": [
      "one is less than two\n"
     ]
    }
   ],
   "source": [
    "if (1 < 2):\n",
    "    print(\"one is less than two\")"
   ]
  },
  {
   "cell_type": "code",
   "execution_count": 3,
   "metadata": {
    "Collapsed": "false"
   },
   "outputs": [
    {
     "name": "stdout",
     "output_type": "stream",
     "text": [
      "one is less than two\n"
     ]
    }
   ],
   "source": [
    "if 1 < 2:\n",
    "    print(\"one is less than two\")"
   ]
  },
  {
   "cell_type": "markdown",
   "metadata": {
    "Collapsed": "false"
   },
   "source": [
    "We could always verify the output of the boolean expression like this"
   ]
  },
  {
   "cell_type": "code",
   "execution_count": 4,
   "metadata": {
    "Collapsed": "false"
   },
   "outputs": [
    {
     "data": {
      "text/plain": [
       "True"
      ]
     },
     "execution_count": 4,
     "metadata": {},
     "output_type": "execute_result"
    }
   ],
   "source": [
    "(1 < 2)"
   ]
  },
  {
   "cell_type": "markdown",
   "metadata": {
    "Collapsed": "false"
   },
   "source": [
    "This statement uses `if`, `elif` and `else`. \n",
    "\n",
    "*Try running the cell. It will prompt you for input, then print a statement based on what you enter. Try to follow the logic and guess that it will print before looking at the result.*"
   ]
  },
  {
   "cell_type": "code",
   "execution_count": 5,
   "metadata": {
    "Collapsed": "false"
   },
   "outputs": [
    {
     "name": "stdin",
     "output_type": "stream",
     "text": [
      "Please enter an integer:  4\n"
     ]
    },
    {
     "name": "stdout",
     "output_type": "stream",
     "text": [
      "More\n"
     ]
    }
   ],
   "source": [
    "x = int(input(\"Please enter an integer: \"))\n",
    "\n",
    "if x < 0:\n",
    "    x = 0\n",
    "    print('Negative changed to zero')\n",
    "elif x == 0:\n",
    "    print('Zero')\n",
    "elif x == 1:\n",
    "    print('Single')\n",
    "else:\n",
    "    print('More')"
   ]
  },
  {
   "cell_type": "markdown",
   "metadata": {
    "Collapsed": "false"
   },
   "source": [
    "Python 3.8 introduced \"the walrus operator\" (`:=`) shown below to assign values to variables as part of a larger expression."
   ]
  },
  {
   "cell_type": "code",
   "execution_count": 10,
   "metadata": {
    "Collapsed": "false"
   },
   "outputs": [],
   "source": [
    "# This will not work unless you are running Python 3.8+\n",
    "# if (n := len(a)) > 10:\n",
    "#     print(f\"List is too long ({n} elements, expected <= 10)\")"
   ]
  },
  {
   "cell_type": "markdown",
   "metadata": {
    "Collapsed": "false"
   },
   "source": [
    "## Loops: `for`, `while`\n",
    "\n",
    "Loops are used to iterate over the items of any sequence. Their syntax is below.\n",
    "\n",
    "```python\n",
    "for variable in iterable:\n",
    "    # do something\n",
    "```\n",
    "\n",
    "```python\n",
    "while boolean_expression:\n",
    "    # do something\n",
    "```"
   ]
  },
  {
   "cell_type": "code",
   "execution_count": 8,
   "metadata": {
    "Collapsed": "false"
   },
   "outputs": [
    {
     "name": "stdout",
     "output_type": "stream",
     "text": [
      "eat 3\n",
      "dance 5\n",
      "love 4\n"
     ]
    }
   ],
   "source": [
    "my_list = ['eat', 'dance', 'love']\n",
    "\n",
    "for w in my_list:\n",
    "    print(w, len(w))"
   ]
  },
  {
   "cell_type": "code",
   "execution_count": 9,
   "metadata": {
    "Collapsed": "false"
   },
   "outputs": [
    {
     "name": "stdout",
     "output_type": "stream",
     "text": [
      "0\n",
      "1\n",
      "2\n"
     ]
    }
   ],
   "source": [
    "a = 0\n",
    "\n",
    "while a < 3:\n",
    "    print(a)\n",
    "    a += 1"
   ]
  },
  {
   "cell_type": "markdown",
   "metadata": {
    "Collapsed": "false"
   },
   "source": [
    "### Additional loop clauses: `break`, `continue`, `else`\n",
    "\n",
    "We can also do a few more things with loops like test conditions within them, break out of them, and more. Let's look at a few below."
   ]
  },
  {
   "cell_type": "markdown",
   "metadata": {
    "Collapsed": "false"
   },
   "source": [
    "`break` breaks out of the innermost enclosing for or while loop."
   ]
  },
  {
   "cell_type": "code",
   "execution_count": 10,
   "metadata": {
    "Collapsed": "false"
   },
   "outputs": [
    {
     "name": "stdout",
     "output_type": "stream",
     "text": [
      "0\n",
      "stopping at a = 1\n"
     ]
    }
   ],
   "source": [
    "a = 0\n",
    "while a < 3:\n",
    "    if a == 1:\n",
    "        print(\"stopping at a = 1\")\n",
    "        break\n",
    "    print(a)\n",
    "    a += 1"
   ]
  },
  {
   "cell_type": "markdown",
   "metadata": {
    "Collapsed": "false"
   },
   "source": [
    "`continue` continues with the next iteration of the loop"
   ]
  },
  {
   "cell_type": "code",
   "execution_count": 11,
   "metadata": {
    "Collapsed": "false"
   },
   "outputs": [
    {
     "name": "stdout",
     "output_type": "stream",
     "text": [
      "Found an even number 2\n",
      "Found an odd number 3\n",
      "Found an even number 4\n",
      "Found an odd number 5\n"
     ]
    }
   ],
   "source": [
    "for num in range(2, 6):\n",
    "    if num % 2 == 0:\n",
    "        print(\"Found an even number\", num)\n",
    "        continue\n",
    "    print(\"Found an odd number\", num)"
   ]
  },
  {
   "cell_type": "markdown",
   "metadata": {
    "Collapsed": "false"
   },
   "source": [
    "`else` is optional and if present will be executed at the end of a loop BUT NOT when the loop is terminated by a break statement"
   ]
  },
  {
   "cell_type": "code",
   "execution_count": 12,
   "metadata": {
    "Collapsed": "false"
   },
   "outputs": [
    {
     "name": "stdout",
     "output_type": "stream",
     "text": [
      "2 is a prime number\n",
      "3 is a prime number\n",
      "4 equals 2 * 2\n",
      "5 is a prime number\n",
      "6 equals 2 * 3\n",
      "7 is a prime number\n",
      "8 equals 2 * 4\n",
      "9 equals 3 * 3\n"
     ]
    }
   ],
   "source": [
    "for n in range(2, 10):\n",
    "    for x in range(2, n):\n",
    "        if n % x == 0:\n",
    "            print(n, 'equals', x, '*', n//x)\n",
    "            break\n",
    "    else:\n",
    "        # loop fell through without finding a factor\n",
    "        print(n, 'is a prime number')"
   ]
  },
  {
   "cell_type": "markdown",
   "metadata": {
    "Collapsed": "false"
   },
   "source": [
    "# Troubleshooting Tips"
   ]
  },
  {
   "cell_type": "markdown",
   "metadata": {
    "Collapsed": "false"
   },
   "source": [
    "If you run into issues running any of the code in this notebook, check your version of Python and Jupyter against mine below\n",
    "\n",
    "```python\n",
    "import sys\n",
    "print(sys.version)\n",
    "```\n",
    "```\n",
    "3.7.6 (default, Dec 31 2019, 17:12:14) \n",
    "[Clang 11.0.0 (clang-1100.0.33.16)]\n",
    "```\n",
    "\n",
    "```python\n",
    "!jupyter --version\n",
    "```\n",
    "```\n",
    "jupyter core     : 4.6.1\n",
    "jupyter-notebook : 6.0.2\n",
    "qtconsole        : not installed\n",
    "ipython          : 7.9.0\n",
    "ipykernel        : 5.1.3\n",
    "jupyter client   : 5.3.4\n",
    "jupyter lab      : 1.2.3\n",
    "nbconvert        : 5.6.1\n",
    "ipywidgets       : not installed\n",
    "nbformat         : 4.4.0\n",
    "traitlets        : 4.3.3\n",
    "```"
   ]
  },
  {
   "cell_type": "code",
   "execution_count": 7,
   "metadata": {
    "Collapsed": "false"
   },
   "outputs": [],
   "source": [
    "# import sys\n",
    "# print(sys.version)"
   ]
  },
  {
   "cell_type": "code",
   "execution_count": 6,
   "metadata": {
    "Collapsed": "false"
   },
   "outputs": [],
   "source": [
    "# !jupyter --version"
   ]
  }
 ],
 "metadata": {
  "kernelspec": {
   "display_name": "Python 3",
   "language": "python",
   "name": "python3"
  },
  "language_info": {
   "codemirror_mode": {
    "name": "ipython",
    "version": 3
   },
   "file_extension": ".py",
   "mimetype": "text/x-python",
   "name": "python",
   "nbconvert_exporter": "python",
   "pygments_lexer": "ipython3",
   "version": "3.7.6"
  },
  "latex_envs": {
   "LaTeX_envs_menu_present": true,
   "autoclose": false,
   "autocomplete": true,
   "bibliofile": "biblio.bib",
   "cite_by": "apalike",
   "current_citInitial": 1,
   "eqLabelWithNumbers": true,
   "eqNumInitial": 1,
   "hotkeys": {
    "equation": "Ctrl-E",
    "itemize": "Ctrl-I"
   },
   "labels_anchors": false,
   "latex_user_defs": false,
   "report_style_numbering": false,
   "user_envs_cfg": false
  }
 },
 "nbformat": 4,
 "nbformat_minor": 4
}
