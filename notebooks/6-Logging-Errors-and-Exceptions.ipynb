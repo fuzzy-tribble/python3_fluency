{
 "cells": [
  {
   "cell_type": "markdown",
   "metadata": {
    "Collapsed": "true"
   },
   "source": [
    "# Logging, Errors and Exceptions in Python\n",
    "\n",
    "**Purpose:** To help you get comfortable with the topics outlined below\n",
    "\n",
    "**Recomended Usage**\n",
    "* Run each of the cells (Shift+Enter) and edit them as necessary to solidify your understanding\n",
    "* Do any of the exercises that are relevant to helping you understand the material\n",
    "\n",
    "**Topics Covered**\n",
    "* Logging\n",
    "* Errors and Exceptions"
   ]
  },
  {
   "cell_type": "markdown",
   "metadata": {
    "Collapsed": "false"
   },
   "source": [
    "# Workbook Setup"
   ]
  },
  {
   "cell_type": "markdown",
   "metadata": {
    "Collapsed": "false"
   },
   "source": [
    "The following magics will reload all modules before executing a new line and help make sure you follow PEP8 code style."
   ]
  },
  {
   "cell_type": "code",
   "execution_count": 1,
   "metadata": {
    "Collapsed": "false"
   },
   "outputs": [],
   "source": [
    "%load_ext autoreload\n",
    "%autoreload 2\n",
    "\n",
    "%load_ext pycodestyle_magic\n",
    "%pycodestyle_on"
   ]
  },
  {
   "cell_type": "code",
   "execution_count": 1,
   "metadata": {
    "Collapsed": "false",
    "hidden": true
   },
   "outputs": [],
   "source": [
    "import logging"
   ]
  },
  {
   "cell_type": "markdown",
   "metadata": {
    "Collapsed": "false",
    "heading_collapsed": true
   },
   "source": [
    "# Logging\n",
    "\n",
    "Usage and best practices for using Pythons native logging module."
   ]
  },
  {
   "cell_type": "markdown",
   "metadata": {
    "Collapsed": "false",
    "heading_collapsed": true,
    "hidden": true
   },
   "source": [
    "## Loggers, Levels, Formatters and Handlers"
   ]
  },
  {
   "cell_type": "markdown",
   "metadata": {
    "Collapsed": "false",
    "hidden": true
   },
   "source": [
    "To get started with Python's logging module you need to understand loggers, handlers and formatters:\n",
    "\n",
    "> **Loggers** have **levels** (how severe the issue is) and **handlers** (that tell it where to put the information) which have **formatters** (which tell it how to format/display the information)."
   ]
  },
  {
   "cell_type": "markdown",
   "metadata": {
    "Collapsed": "false",
    "heading_collapsed": true,
    "hidden": true
   },
   "source": [
    "### Get or create loggers"
   ]
  },
  {
   "cell_type": "markdown",
   "metadata": {
    "Collapsed": "false",
    "hidden": true
   },
   "source": [
    "Python's native logging module is hierarchical. There is a default root logger then when you add custom loggers you are adding \"children\".\n",
    "\n",
    "**NOTE:** The root logger (`logging.root` - top of the logging hierarchy) is called when methods like `logging.debug()` is used. \n",
    "\n",
    "**Using the root logger directly or indirectly via methods like logging.debug() is generally not recommended. Instead, create your own loggers.**"
   ]
  },
  {
   "cell_type": "code",
   "execution_count": 3,
   "metadata": {
    "Collapsed": "false",
    "hidden": true
   },
   "outputs": [],
   "source": [
    "test1_logger = logging.getLogger()"
   ]
  },
  {
   "cell_type": "code",
   "execution_count": 4,
   "metadata": {
    "Collapsed": "false",
    "hidden": true
   },
   "outputs": [
    {
     "data": {
      "text/plain": [
       "<RootLogger root (WARNING)>"
      ]
     },
     "execution_count": 4,
     "metadata": {},
     "output_type": "execute_result"
    }
   ],
   "source": [
    "test1_logger  # Defaults to root logger (b/c no name specified)"
   ]
  },
  {
   "cell_type": "markdown",
   "metadata": {
    "Collapsed": "false"
   },
   "source": [
    "*Note: You can see the root logger has default logging level set to \"WARNING\"*"
   ]
  },
  {
   "cell_type": "code",
   "execution_count": 5,
   "metadata": {
    "Collapsed": "false",
    "hidden": true
   },
   "outputs": [],
   "source": [
    "# Get or create a logger named \"test2\"\n",
    "test2_logger = logging.getLogger(\"test2\")"
   ]
  },
  {
   "cell_type": "code",
   "execution_count": 6,
   "metadata": {
    "Collapsed": "false",
    "hidden": true
   },
   "outputs": [
    {
     "name": "stdout",
     "output_type": "stream",
     "text": [
      "<Logger test2 (WARNING)>\n",
      "<RootLogger root (WARNING)>\n"
     ]
    }
   ],
   "source": [
    "print(test2_logger)\n",
    "print(test2_logger.parent)\n",
    "\n",
    "assert test2_logger.parent == logging.root  # The parent is the root logger"
   ]
  },
  {
   "cell_type": "markdown",
   "metadata": {
    "Collapsed": "false",
    "hidden": true
   },
   "source": [
    "### Hierarchal loggers use dot notation"
   ]
  },
  {
   "cell_type": "code",
   "execution_count": 23,
   "metadata": {
    "Collapsed": "false",
    "hidden": true
   },
   "outputs": [
    {
     "data": {
      "text/plain": [
       "<Logger t (WARNING)>"
      ]
     },
     "execution_count": 23,
     "metadata": {},
     "output_type": "execute_result"
    }
   ],
   "source": [
    "# Create logger 't'\n",
    "t = logging.getLogger(\"t\")\n",
    "t"
   ]
  },
  {
   "cell_type": "code",
   "execution_count": 25,
   "metadata": {
    "Collapsed": "false",
    "hidden": true
   },
   "outputs": [
    {
     "data": {
      "text/plain": [
       "<RootLogger root (WARNING)>"
      ]
     },
     "execution_count": 25,
     "metadata": {},
     "output_type": "execute_result"
    }
   ],
   "source": [
    "t.parent  # the parent of 't' is root"
   ]
  },
  {
   "cell_type": "code",
   "execution_count": 26,
   "metadata": {
    "Collapsed": "false",
    "hidden": true
   },
   "outputs": [
    {
     "data": {
      "text/plain": [
       "<Logger t.a (WARNING)>"
      ]
     },
     "execution_count": 26,
     "metadata": {},
     "output_type": "execute_result"
    }
   ],
   "source": [
    "# Create logger 'a' as sublogger of 't'\n",
    "a = logging.getLogger(\"t.a\")\n",
    "a"
   ]
  },
  {
   "cell_type": "code",
   "execution_count": 29,
   "metadata": {
    "Collapsed": "false",
    "hidden": true
   },
   "outputs": [
    {
     "data": {
      "text/plain": [
       "<Logger t (WARNING)>"
      ]
     },
     "execution_count": 29,
     "metadata": {},
     "output_type": "execute_result"
    }
   ],
   "source": [
    "a.parent  # 't' is the parent of 'a'"
   ]
  },
  {
   "cell_type": "code",
   "execution_count": 31,
   "metadata": {
    "Collapsed": "false",
    "hidden": true
   },
   "outputs": [
    {
     "data": {
      "text/plain": [
       "<RootLogger root (WARNING)>"
      ]
     },
     "execution_count": 31,
     "metadata": {},
     "output_type": "execute_result"
    }
   ],
   "source": [
    "a.parent.parent  # Root is the parent of the parent of 'a'"
   ]
  },
  {
   "cell_type": "markdown",
   "metadata": {
    "Collapsed": "false",
    "hidden": true
   },
   "source": [
    "### Inspect your logger's default settings (log level and handlers)"
   ]
  },
  {
   "cell_type": "markdown",
   "metadata": {
    "Collapsed": "false"
   },
   "source": [
    "We can check if a logger has a handler using `hasHandler()` and check the log level using `getEffectiveLevel()` (the numerical value associated with WARNING, ERROR, etc)"
   ]
  },
  {
   "cell_type": "code",
   "execution_count": 7,
   "metadata": {
    "Collapsed": "false",
    "hidden": true
   },
   "outputs": [
    {
     "name": "stdout",
     "output_type": "stream",
     "text": [
      "Handlers for root logger? False\n",
      "Handlers for test2 logger? False\n"
     ]
    }
   ],
   "source": [
    "print('Handlers for {} logger? {}'\n",
    "      .format(test1_logger.name, test1_logger.hasHandlers()))\n",
    "\n",
    "print('Handlers for {} logger? {}'\n",
    "      .format(test2_logger.name, test2_logger.hasHandlers()))"
   ]
  },
  {
   "cell_type": "markdown",
   "metadata": {
    "Collapsed": "false"
   },
   "source": [
    "You can see there are no handlers for these loggers. When you try to log something without having assigned a handler, it will automatically use the default handler (console)."
   ]
  },
  {
   "cell_type": "code",
   "execution_count": 8,
   "metadata": {
    "Collapsed": "false",
    "hidden": true
   },
   "outputs": [
    {
     "name": "stdout",
     "output_type": "stream",
     "text": [
      "Level for root logger? 30\n",
      "Level for test2 logger? 30\n"
     ]
    }
   ],
   "source": [
    "print('Level for {} logger? {}'\n",
    "      .format(test1_logger.name, test1_logger.getEffectiveLevel()))\n",
    "\n",
    "print('Level for {} logger? {}'\n",
    "      .format(test2_logger.name, test2_logger.getEffectiveLevel()))"
   ]
  },
  {
   "cell_type": "code",
   "execution_count": 9,
   "metadata": {
    "Collapsed": "false",
    "hidden": true
   },
   "outputs": [
    {
     "name": "stderr",
     "output_type": "stream",
     "text": [
      "ERROR:root:test error message for root logger\n"
     ]
    },
    {
     "name": "stdout",
     "output_type": "stream",
     "text": [
      "False\n",
      "True\n"
     ]
    }
   ],
   "source": [
    "# If you log a message > WARN using root logger it will create a default handler\n",
    "print(test1_logger.hasHandlers())\n",
    "\n",
    "logging.error(\"test error message for root logger\")\n",
    "\n",
    "print(test1_logger.hasHandlers())"
   ]
  },
  {
   "cell_type": "markdown",
   "metadata": {
    "Collapsed": "false",
    "heading_collapsed": true,
    "hidden": true
   },
   "source": [
    "### Create handlers"
   ]
  },
  {
   "cell_type": "markdown",
   "metadata": {
    "Collapsed": "false",
    "hidden": true
   },
   "source": [
    "Each handler has:\n",
    "\n",
    "* A formatter which adds context information to a log.\n",
    "\n",
    "* A log level that filters out lower level logs (ie. a log handler with INFO level will not handle DEBUG logs)\n",
    "\n",
    "Formatter example:\n",
    "\n",
    "`\"%(asctime)s — %(name)s — %(levelname)s — %(funcName)s:%(lineno)d — %(message)s\"`\n",
    "\n",
    "will output\n",
    "\n",
    "`2018-02-07 19:47:41,864 - a.b.c - WARNING - <module>:1 - your log message`"
   ]
  },
  {
   "cell_type": "code",
   "execution_count": 36,
   "metadata": {
    "Collapsed": "false",
    "hidden": true
   },
   "outputs": [
    {
     "data": {
      "text/plain": [
       "<StreamHandler stderr (NOTSET)>"
      ]
     },
     "execution_count": 36,
     "metadata": {},
     "output_type": "execute_result"
    }
   ],
   "source": [
    "console_handler = logging.StreamHandler()\n",
    "console_handler"
   ]
  },
  {
   "cell_type": "code",
   "execution_count": 37,
   "metadata": {
    "Collapsed": "false",
    "hidden": true
   },
   "outputs": [
    {
     "data": {
      "text/plain": [
       "<FileHandler /Users/elias/jupyter-notebooks/python3_fluency/filename (NOTSET)>"
      ]
     },
     "execution_count": 37,
     "metadata": {},
     "output_type": "execute_result"
    }
   ],
   "source": [
    "file_handler = logging.FileHandler(\"filename\")\n",
    "file_handler"
   ]
  },
  {
   "cell_type": "markdown",
   "metadata": {
    "Collapsed": "false",
    "heading_collapsed": true,
    "hidden": true
   },
   "source": [
    "### Create log messages"
   ]
  },
  {
   "cell_type": "markdown",
   "metadata": {
    "Collapsed": "false",
    "hidden": true
   },
   "source": [
    "If the log level is lower than logger level, the log will be ignored\n",
    "\n",
    "Basically, when you create a logger you say \"show me anything above this level of severity, ignore everything else\".\n",
    "\n",
    "Here are the 6 log levels\n",
    "\n",
    "| 6 Log Levels |\n",
    "|---|\n",
    "| `NOTSET=0` |\n",
    "| `DEBUG=10` |\n",
    "| `INFO=20` |\n",
    "| `WARN=30` |\n",
    "| `ERROR=40` |\n",
    "| `CRITICAL=50` |"
   ]
  },
  {
   "cell_type": "markdown",
   "metadata": {
    "Collapsed": "false",
    "heading_collapsed": true,
    "hidden": true
   },
   "source": [
    "## Practical Logging Examples"
   ]
  },
  {
   "cell_type": "markdown",
   "metadata": {
    "Collapsed": "false",
    "hidden": true
   },
   "source": [
    "**Best practices**\n",
    "\n",
    "* Configure the root logger but never use it in your code—e.g., never call a function like `logging.info()`\n",
    "\n",
    "* To use logging, make sure to create a new logger by using `logging.getLogger(__name__)`.\n",
    "\n",
    "\n",
    "*Note: Logs can get...quite long. So you may want to use classes like `RotatingFileHandler` to rotate the file for you automatically when the file reaches a size limit or do it everyday. You may also want to look into tools like Sentry or Airbrake for really long logs like from WebApps.*"
   ]
  },
  {
   "cell_type": "markdown",
   "metadata": {
    "Collapsed": "false",
    "heading_collapsed": true,
    "hidden": true
   },
   "source": [
    "### Example 1: Logging w/ default handler and formatter"
   ]
  },
  {
   "cell_type": "code",
   "execution_count": 38,
   "metadata": {
    "Collapsed": "false",
    "hidden": true
   },
   "outputs": [
    {
     "name": "stdout",
     "output_type": "stream",
     "text": [
      "<Logger __main__ (WARNING)>\n",
      "hasHandlers? True\n",
      "getEffectiveLevel? 30\n"
     ]
    }
   ],
   "source": [
    "logger = logging.getLogger(__name__)\n",
    "\n",
    "print(logger)\n",
    "print('hasHandlers? {}'.format(logger.hasHandlers()))\n",
    "print('getEffectiveLevel? {}'.format(logger.getEffectiveLevel()))"
   ]
  },
  {
   "cell_type": "code",
   "execution_count": 40,
   "metadata": {
    "Collapsed": "false",
    "hidden": true
   },
   "outputs": [
    {
     "name": "stderr",
     "output_type": "stream",
     "text": [
      "WARNING:__main__:my WARNING message\n",
      "ERROR:__main__:my ERROR message\n",
      "CRITICAL:__main__:my CRITICAL message\n"
     ]
    }
   ],
   "source": [
    "# Debug and info messages should be ignored because our log level is WARNING\n",
    "logger.debug('my DEBUG message')\n",
    "logger.info('my INFO message')\n",
    "logger.warning('my WARNING message')\n",
    "logger.error('my ERROR message')\n",
    "logger.critical('my CRITICAL message')"
   ]
  },
  {
   "cell_type": "markdown",
   "metadata": {
    "Collapsed": "false",
    "heading_collapsed": true,
    "hidden": true
   },
   "source": [
    "### Example 2: Logging w/ custom handler and formatter"
   ]
  },
  {
   "cell_type": "code",
   "execution_count": 10,
   "metadata": {
    "Collapsed": "false",
    "hidden": true
   },
   "outputs": [],
   "source": [
    "# Get or create a logger\n",
    "logger = logging.getLogger(__name__)\n",
    "\n",
    "# Set log level\n",
    "logger.setLevel(logging.DEBUG)\n",
    "\n",
    "# Define file handler and set formatter\n",
    "file_handler = logging.FileHandler('logfile.log')\n",
    "format_str = '%(asctime)s : %(levelname)s : %(name)s : %(message)s'\n",
    "formatter = logging.Formatter(format_str)\n",
    "file_handler.setFormatter(formatter)\n",
    "\n",
    "# Add file handler to logger\n",
    "logger.addHandler(file_handler)"
   ]
  },
  {
   "cell_type": "code",
   "execution_count": 11,
   "metadata": {
    "Collapsed": "false",
    "hidden": true
   },
   "outputs": [
    {
     "name": "stderr",
     "output_type": "stream",
     "text": [
      "DEBUG:__main__:A debug message\n",
      "INFO:__main__:An info message\n",
      "WARNING:__main__:Something is not right.\n",
      "ERROR:__main__:A Major error has happened.\n",
      "CRITICAL:__main__:Fatal error. Cannot continue\n"
     ]
    }
   ],
   "source": [
    "logger.debug('A debug message')\n",
    "logger.info('An info message')\n",
    "logger.warning('Something is not right.')\n",
    "logger.error('A Major error has happened.')\n",
    "logger.critical('Fatal error. Cannot continue')"
   ]
  },
  {
   "cell_type": "markdown",
   "metadata": {
    "Collapsed": "false",
    "hidden": true
   },
   "source": [
    "We can checkout the log file that was just created.\n",
    "\n",
    "Notice the format for the log file vs the console output is different, that is because its being handled by a different handler. The default console handler and the log file handler we just created."
   ]
  },
  {
   "cell_type": "code",
   "execution_count": 12,
   "metadata": {
    "Collapsed": "false",
    "hidden": true
   },
   "outputs": [
    {
     "name": "stdout",
     "output_type": "stream",
     "text": [
      "2019-11-17 13:04:07,452 : DEBUG : __main__ : A debug message\n",
      "2019-11-17 13:04:07,453 : INFO : __main__ : An info message\n",
      "2019-11-17 13:04:07,454 : WARNING : __main__ : Something is not right.\n",
      "2019-11-17 13:04:07,458 : ERROR : __main__ : A Major error has happened.\n",
      "2019-11-17 13:04:07,460 : CRITICAL : __main__ : Fatal error. Cannot continue\n",
      "2019-11-17 13:08:42,216 : ERROR : __main__ : Division by zero problem\n",
      "Traceback (most recent call last):\n",
      "  File \"<ipython-input-110-0b146286ffa0>\", line 11, in divide\n",
      "    out = x / y\n",
      "ZeroDivisionError: division by zero\n",
      "2019-11-17 13:08:42,218 : ERROR : __main__ : Divide 10 / 0 = None\n",
      "2019-11-17 13:09:45,936 : ERROR : __main__ : Division by zero problem\n",
      "Traceback (most recent call last):\n",
      "  File \"<ipython-input-110-0b146286ffa0>\", line 11, in divide\n",
      "    out = x / y\n",
      "ZeroDivisionError: division by zero\n",
      "2019-11-18 12:46:34,170 : DEBUG : __main__ : A debug message\n",
      "2019-11-18 12:46:34,170 : DEBUG : __main__ : A debug message\n",
      "2019-11-18 12:46:34,170 : DEBUG : __main__ : A debug message\n",
      "2019-11-18 12:46:34,170 : DEBUG : __main__ : A debug message\n",
      "2019-11-18 12:46:34,173 : INFO : __main__ : An info message\n",
      "2019-11-18 12:46:34,173 : INFO : __main__ : An info message\n",
      "2019-11-18 12:46:34,173 : INFO : __main__ : An info message\n",
      "2019-11-18 12:46:34,173 : INFO : __main__ : An info message\n",
      "2019-11-18 12:46:34,174 : WARNING : __main__ : Something is not right.\n",
      "2019-11-18 12:46:34,174 : WARNING : __main__ : Something is not right.\n",
      "2019-11-18 12:46:34,174 : WARNING : __main__ : Something is not right.\n",
      "2019-11-18 12:46:34,174 : WARNING : __main__ : Something is not right.\n",
      "2019-11-18 12:46:34,175 : ERROR : __main__ : A Major error has happened.\n",
      "2019-11-18 12:46:34,175 : ERROR : __main__ : A Major error has happened.\n",
      "2019-11-18 12:46:34,175 : ERROR : __main__ : A Major error has happened.\n",
      "2019-11-18 12:46:34,175 : ERROR : __main__ : A Major error has happened.\n",
      "2019-11-18 12:46:34,176 : CRITICAL : __main__ : Fatal error. Cannot continue\n",
      "2019-11-18 12:46:34,176 : CRITICAL : __main__ : Fatal error. Cannot continue\n",
      "2019-11-18 12:46:34,176 : CRITICAL : __main__ : Fatal error. Cannot continue\n",
      "2019-11-18 12:46:34,176 : CRITICAL : __main__ : Fatal error. Cannot continue\n",
      "2019-11-18 12:48:07,287 : ERROR : __main__ : Division by zero problem\n",
      "Traceback (most recent call last):\n",
      "  File \"<ipython-input-49-b3de6ac2c9d7>\", line 11, in divide\n",
      "    out = x / y\n",
      "ZeroDivisionError: division by zero\n",
      "2019-11-18 12:48:07,287 : ERROR : __main__ : Division by zero problem\n",
      "Traceback (most recent call last):\n",
      "  File \"<ipython-input-49-b3de6ac2c9d7>\", line 11, in divide\n",
      "    out = x / y\n",
      "ZeroDivisionError: division by zero\n",
      "2019-11-18 12:48:07,287 : ERROR : __main__ : Division by zero problem\n",
      "Traceback (most recent call last):\n",
      "  File \"<ipython-input-49-b3de6ac2c9d7>\", line 11, in divide\n",
      "    out = x / y\n",
      "ZeroDivisionError: division by zero\n",
      "2019-11-18 12:48:07,287 : ERROR : __main__ : Division by zero problem\n",
      "Traceback (most recent call last):\n",
      "  File \"<ipython-input-49-b3de6ac2c9d7>\", line 11, in divide\n",
      "    out = x / y\n",
      "ZeroDivisionError: division by zero\n",
      "2019-11-18 12:48:12,473 : ERROR : __main__ : Division by zero problem\n",
      "Traceback (most recent call last):\n",
      "  File \"<ipython-input-49-b3de6ac2c9d7>\", line 11, in divide\n",
      "    out = x / y\n",
      "ZeroDivisionError: division by zero\n",
      "2019-11-18 12:48:12,473 : ERROR : __main__ : Division by zero problem\n",
      "Traceback (most recent call last):\n",
      "  File \"<ipython-input-49-b3de6ac2c9d7>\", line 11, in divide\n",
      "    out = x / y\n",
      "ZeroDivisionError: division by zero\n",
      "2019-11-18 12:48:12,473 : ERROR : __main__ : Division by zero problem\n",
      "Traceback (most recent call last):\n",
      "  File \"<ipython-input-49-b3de6ac2c9d7>\", line 11, in divide\n",
      "    out = x / y\n",
      "ZeroDivisionError: division by zero\n",
      "2019-11-18 12:48:12,473 : ERROR : __main__ : Division by zero problem\n",
      "Traceback (most recent call last):\n",
      "  File \"<ipython-input-49-b3de6ac2c9d7>\", line 11, in divide\n",
      "    out = x / y\n",
      "ZeroDivisionError: division by zero\n",
      "2019-11-25 13:18:20,161 : DEBUG : __main__ : A debug message\n",
      "2019-11-25 13:18:20,165 : INFO : __main__ : An info message\n",
      "2019-11-25 13:18:20,166 : WARNING : __main__ : Something is not right.\n",
      "2019-11-25 13:18:20,167 : ERROR : __main__ : A Major error has happened.\n",
      "2019-11-25 13:18:20,167 : CRITICAL : __main__ : Fatal error. Cannot continue\n"
     ]
    }
   ],
   "source": [
    "!cat logfile.log"
   ]
  },
  {
   "cell_type": "markdown",
   "metadata": {
    "Collapsed": "false",
    "heading_collapsed": true,
    "hidden": true
   },
   "source": [
    "### Example 3: Logging an exception/error (div by 0)"
   ]
  },
  {
   "cell_type": "code",
   "execution_count": 13,
   "metadata": {
    "Collapsed": "false",
    "hidden": true
   },
   "outputs": [],
   "source": [
    "# Create or get the logger\n",
    "my_logger = logging.getLogger(__name__)\n",
    "\n",
    "# Set log level\n",
    "my_logger.setLevel(logging.INFO)\n",
    "\n",
    "\n",
    "# Define function\n",
    "def divide(x, y):\n",
    "    try:\n",
    "        out = x / y\n",
    "    except ZeroDivisionError:\n",
    "        my_logger.exception(\"Division by zero problem\")\n",
    "    else:\n",
    "        return out"
   ]
  },
  {
   "cell_type": "code",
   "execution_count": 14,
   "metadata": {
    "Collapsed": "false",
    "hidden": true
   },
   "outputs": [
    {
     "name": "stderr",
     "output_type": "stream",
     "text": [
      "ERROR:__main__:Division by zero problem\n",
      "Traceback (most recent call last):\n",
      "  File \"<ipython-input-13-93bdd46699a6>\", line 11, in divide\n",
      "    out = x / y\n",
      "ZeroDivisionError: division by zero\n"
     ]
    }
   ],
   "source": [
    "divide(10, 0)"
   ]
  },
  {
   "cell_type": "markdown",
   "metadata": {
    "Collapsed": "false",
    "heading_collapsed": true
   },
   "source": [
    "# Errors and Exceptions\n",
    "\n",
    "Raising and handling default and custom exceptions"
   ]
  },
  {
   "cell_type": "markdown",
   "metadata": {
    "Collapsed": "false",
    "hidden": true
   },
   "source": [
    "Check out how try statements work [in the docs](https://docs.python.org/3/tutorial/errors.html#handling-exceptions) if you need some more background."
   ]
  },
  {
   "cell_type": "markdown",
   "metadata": {
    "Collapsed": "true",
    "heading_collapsed": true,
    "hidden": true
   },
   "source": [
    "### Basic try-except"
   ]
  },
  {
   "cell_type": "code",
   "execution_count": 2,
   "metadata": {
    "Collapsed": "false",
    "hidden": true
   },
   "outputs": [
    {
     "name": "stdout",
     "output_type": "stream",
     "text": [
      "Oops!  That was no valid number.  Try again...\n"
     ]
    }
   ],
   "source": [
    "try:\n",
    "    # Pretend you wrote some code here that threw a ValueError\n",
    "    raise ValueError()\n",
    "except ValueError:\n",
    "    print(\"Oops!  That was no valid number.  Try again...\")"
   ]
  },
  {
   "cell_type": "markdown",
   "metadata": {
    "Collapsed": "true",
    "heading_collapsed": true,
    "hidden": true
   },
   "source": [
    "### Raise exception"
   ]
  },
  {
   "cell_type": "code",
   "execution_count": 3,
   "metadata": {
    "Collapsed": "false",
    "hidden": true
   },
   "outputs": [
    {
     "ename": "ValueError",
     "evalue": "custom message",
     "output_type": "error",
     "traceback": [
      "\u001b[0;31m---------------------------------------------------------------------------\u001b[0m",
      "\u001b[0;31mValueError\u001b[0m                                Traceback (most recent call last)",
      "\u001b[0;32m<ipython-input-3-558a6c8cd86b>\u001b[0m in \u001b[0;36m<module>\u001b[0;34m\u001b[0m\n\u001b[1;32m      1\u001b[0m \u001b[0;31m# Raise an exception with custom message\u001b[0m\u001b[0;34m\u001b[0m\u001b[0;34m\u001b[0m\u001b[0;34m\u001b[0m\u001b[0m\n\u001b[0;32m----> 2\u001b[0;31m \u001b[0;32mraise\u001b[0m \u001b[0mValueError\u001b[0m\u001b[0;34m(\u001b[0m\u001b[0;34m\"custom message\"\u001b[0m\u001b[0;34m)\u001b[0m\u001b[0;34m\u001b[0m\u001b[0;34m\u001b[0m\u001b[0m\n\u001b[0m",
      "\u001b[0;31mValueError\u001b[0m: custom message"
     ]
    }
   ],
   "source": [
    "# Raise an exception with custom message\n",
    "raise ValueError(\"custom message\")"
   ]
  },
  {
   "cell_type": "markdown",
   "metadata": {
    "Collapsed": "true",
    "heading_collapsed": true,
    "hidden": true
   },
   "source": [
    "### Define custom exceptions\n",
    "\n",
    "This example is [directly from the docs](https://docs.python.org/3/tutorial/errors.html#user-defined-exceptions)"
   ]
  },
  {
   "cell_type": "code",
   "execution_count": 5,
   "metadata": {
    "Collapsed": "false",
    "hidden": true
   },
   "outputs": [],
   "source": [
    "class Error(Exception):\n",
    "    \"\"\"Base class for exceptions in this module.\"\"\"\n",
    "    pass\n",
    "\n",
    "class InputError(Error):\n",
    "    \"\"\"Exception raised for errors in the input.\n",
    "\n",
    "    Attributes:\n",
    "        expression -- input expression in which the error occurred\n",
    "        message -- explanation of the error\n",
    "    \"\"\"\n",
    "\n",
    "    def __init__(self, expression, message):\n",
    "        self.expression = expression\n",
    "        self.message = message\n",
    "\n",
    "class TransitionError(Error):\n",
    "    \"\"\"Raised when an operation attempts a state transition that's not\n",
    "    allowed.\n",
    "\n",
    "    Attributes:\n",
    "        previous -- state at beginning of transition\n",
    "        next -- attempted new state\n",
    "        message -- explanation of why the specific transition is not allowed\n",
    "    \"\"\"\n",
    "\n",
    "    def __init__(self, previous, next, message):\n",
    "        self.previous = previous\n",
    "        self.next = next\n",
    "        self.message = message"
   ]
  },
  {
   "cell_type": "markdown",
   "metadata": {
    "Collapsed": "false"
   },
   "source": [
    "### Catchall Wildcard\n",
    "\n",
    "The last except in the code below will catch anything that wasn't an OSError or ValueError.\n",
    "\n",
    "*Note: Carefull using wildcard catchalls so you don't mask the real programming error. As a general rule try and be as specific as possible and pass the error if up the chain if necessary.*"
   ]
  },
  {
   "cell_type": "code",
   "execution_count": 15,
   "metadata": {
    "Collapsed": "false"
   },
   "outputs": [],
   "source": [
    "import sys"
   ]
  },
  {
   "cell_type": "code",
   "execution_count": 120,
   "metadata": {
    "Collapsed": "false",
    "hidden": true
   },
   "outputs": [
    {
     "name": "stdout",
     "output_type": "stream",
     "text": [
      "OS error: [Errno 2] No such file or directory: 'myfile.txt'\n"
     ]
    }
   ],
   "source": [
    "try:\n",
    "    f = open('myfile.txt')\n",
    "    s = f.readline()\n",
    "    i = int(s.strip())\n",
    "except OSError as err:\n",
    "    print(\"OS error: {0}\".format(err))\n",
    "except ValueError:\n",
    "    print(\"Could not convert data to an integer.\")\n",
    "except:\n",
    "    print(\"Unexpected error:\", sys.exc_info()[0])\n",
    "    raise"
   ]
  },
  {
   "cell_type": "markdown",
   "metadata": {
    "Collapsed": "false"
   },
   "source": [
    "You can see because there is no file called 'myfile.txt' for you to open an `OSError` exception is thrown."
   ]
  },
  {
   "cell_type": "markdown",
   "metadata": {
    "Collapsed": "true",
    "heading_collapsed": true,
    "hidden": true
   },
   "source": [
    "### Finally is always executed"
   ]
  },
  {
   "cell_type": "code",
   "execution_count": 121,
   "metadata": {
    "Collapsed": "false",
    "hidden": true
   },
   "outputs": [
    {
     "name": "stdout",
     "output_type": "stream",
     "text": [
      "Goodbye, world!\n"
     ]
    },
    {
     "ename": "KeyboardInterrupt",
     "evalue": "",
     "output_type": "error",
     "traceback": [
      "\u001b[0;31m---------------------------------------------------------------------------\u001b[0m",
      "\u001b[0;31mKeyboardInterrupt\u001b[0m                         Traceback (most recent call last)",
      "\u001b[0;32m<ipython-input-121-ca8991ac7661>\u001b[0m in \u001b[0;36m<module>\u001b[0;34m\u001b[0m\n\u001b[1;32m      1\u001b[0m \u001b[0;32mtry\u001b[0m\u001b[0;34m:\u001b[0m\u001b[0;34m\u001b[0m\u001b[0;34m\u001b[0m\u001b[0m\n\u001b[0;32m----> 2\u001b[0;31m     \u001b[0;32mraise\u001b[0m \u001b[0mKeyboardInterrupt\u001b[0m\u001b[0;34m\u001b[0m\u001b[0;34m\u001b[0m\u001b[0m\n\u001b[0m\u001b[1;32m      3\u001b[0m \u001b[0;32mfinally\u001b[0m\u001b[0;34m:\u001b[0m\u001b[0;34m\u001b[0m\u001b[0;34m\u001b[0m\u001b[0m\n\u001b[1;32m      4\u001b[0m     \u001b[0mprint\u001b[0m\u001b[0;34m(\u001b[0m\u001b[0;34m'Goodbye, world!'\u001b[0m\u001b[0;34m)\u001b[0m\u001b[0;34m\u001b[0m\u001b[0;34m\u001b[0m\u001b[0m\n",
      "\u001b[0;31mKeyboardInterrupt\u001b[0m: "
     ]
    }
   ],
   "source": [
    "try:\n",
    "    raise KeyboardInterrupt\n",
    "finally:\n",
    "    print('Goodbye, world!')"
   ]
  },
  {
   "cell_type": "markdown",
   "metadata": {
    "Collapsed": "false",
    "heading_collapsed": true,
    "hidden": true
   },
   "source": [
    "### Else is executed IFF try works"
   ]
  },
  {
   "cell_type": "code",
   "execution_count": 128,
   "metadata": {
    "Collapsed": "false",
    "hidden": true
   },
   "outputs": [
    {
     "name": "stdout",
     "output_type": "stream",
     "text": [
      "trying worked\n",
      "inside else\n",
      "inside finally\n"
     ]
    }
   ],
   "source": [
    "# Else is executed\n",
    "try:\n",
    "    print(\"trying worked\")\n",
    "except OSError:\n",
    "    print('inside OSError')\n",
    "else:\n",
    "    print(\"inside else\")\n",
    "finally:\n",
    "    print(\"inside finally\")"
   ]
  },
  {
   "cell_type": "code",
   "execution_count": 127,
   "metadata": {
    "Collapsed": "false",
    "hidden": true
   },
   "outputs": [
    {
     "name": "stdout",
     "output_type": "stream",
     "text": [
      "inside OSError\n",
      "inside finally\n"
     ]
    }
   ],
   "source": [
    "# Else isn't executed\n",
    "try:\n",
    "    raise OSError(\"some OS error\")\n",
    "except (OSError, RuntimeError, TypeError):\n",
    "    print('inside OSError')\n",
    "else:\n",
    "    print(\"inside else\")\n",
    "finally:\n",
    "    print(\"inside finally\")"
   ]
  },
  {
   "cell_type": "markdown",
   "metadata": {
    "Collapsed": "false"
   },
   "source": [
    "# Troubleshooting Tips"
   ]
  },
  {
   "cell_type": "markdown",
   "metadata": {
    "Collapsed": "false"
   },
   "source": [
    "If you run into issues running any of the code in this notebook, check your version of Python and Jupyter against mine below\n",
    "\n",
    "```python\n",
    "import sys\n",
    "print(sys.version)\n",
    "```\n",
    "```\n",
    "3.7.6 (default, Dec 31 2019, 17:12:14) \n",
    "[Clang 11.0.0 (clang-1100.0.33.16)]\n",
    "```\n",
    "\n",
    "```bash\n",
    "!jupyter --version\n",
    "```\n",
    "```\n",
    "jupyter core     : 4.6.1\n",
    "jupyter-notebook : 6.0.2\n",
    "qtconsole        : not installed\n",
    "ipython          : 7.9.0\n",
    "ipykernel        : 5.1.3\n",
    "jupyter client   : 5.3.4\n",
    "jupyter lab      : 1.2.3\n",
    "nbconvert        : 5.6.1\n",
    "ipywidgets       : not installed\n",
    "nbformat         : 4.4.0\n",
    "traitlets        : 4.3.3\n",
    "```"
   ]
  },
  {
   "cell_type": "code",
   "execution_count": 7,
   "metadata": {
    "Collapsed": "false"
   },
   "outputs": [],
   "source": [
    "# import sys\n",
    "# print(sys.version)"
   ]
  },
  {
   "cell_type": "code",
   "execution_count": 6,
   "metadata": {
    "Collapsed": "false"
   },
   "outputs": [],
   "source": [
    "# !jupyter --version"
   ]
  }
 ],
 "metadata": {
  "kernelspec": {
   "display_name": "Python 3",
   "language": "python",
   "name": "python3"
  },
  "language_info": {
   "codemirror_mode": {
    "name": "ipython",
    "version": 3
   },
   "file_extension": ".py",
   "mimetype": "text/x-python",
   "name": "python",
   "nbconvert_exporter": "python",
   "pygments_lexer": "ipython3",
   "version": "3.7.6"
  },
  "latex_envs": {
   "LaTeX_envs_menu_present": true,
   "autoclose": false,
   "autocomplete": true,
   "bibliofile": "biblio.bib",
   "cite_by": "apalike",
   "current_citInitial": 1,
   "eqLabelWithNumbers": true,
   "eqNumInitial": 1,
   "hotkeys": {
    "equation": "Ctrl-E",
    "itemize": "Ctrl-I"
   },
   "labels_anchors": false,
   "latex_user_defs": false,
   "report_style_numbering": false,
   "user_envs_cfg": false
  }
 },
 "nbformat": 4,
 "nbformat_minor": 4
}
