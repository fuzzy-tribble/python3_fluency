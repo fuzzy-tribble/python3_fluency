{
 "cells": [
  {
   "cell_type": "markdown",
   "metadata": {
    "Collapsed": "true"
   },
   "source": [
    "# Python3 Fluency Workbook: Decorators\n",
    "\n",
    "**Purpose:** The purpose of this workbook is to help you get comfortable with the topics below.\n",
    "\n",
    "**Recomended Usage**\n",
    "* Run each of the cells (Shift+Enter) and edit them as necessary to solidify your understanding\n",
    "* Do any of the exercises that are relevant to helping you understand the material\n",
    "\n",
    "**Topics Covered**\n",
    "* Decorators"
   ]
  },
  {
   "cell_type": "markdown",
   "metadata": {
    "Collapsed": "false"
   },
   "source": [
    "# Workbook Setup"
   ]
  },
  {
   "cell_type": "markdown",
   "metadata": {
    "Collapsed": "true"
   },
   "source": [
    "## Troubleshooting Tips"
   ]
  },
  {
   "cell_type": "markdown",
   "metadata": {
    "Collapsed": "false"
   },
   "source": [
    "If you run into issues running any of the code in this notebook, check your version of Jupyter, extensions, etc.\n",
    "\n",
    "```bash\n",
    "!jupyter --version\n",
    "\n",
    "jupyter core     : 4.6.1\n",
    "jupyter-notebook : 6.0.2\n",
    "qtconsole        : not installed\n",
    "ipython          : 7.9.0\n",
    "ipykernel        : 5.1.3\n",
    "jupyter client   : 5.3.4\n",
    "jupyter lab      : 1.2.3\n",
    "nbconvert        : 5.6.1\n",
    "ipywidgets       : not installed\n",
    "nbformat         : 4.4.0\n",
    "traitlets        : 4.3.3\n",
    "```\n",
    "\n",
    "```bash\n",
    "!jupyter-labextension list\n",
    "\n",
    "JupyterLab v1.2.3\n",
    "Known labextensions:\n",
    "   app dir: /usr/local/share/jupyter/lab\n",
    "        @aquirdturtle/collapsible_headings v0.5.0  enabled  OK\n",
    "        @jupyter-widgets/jupyterlab-manager v1.1.0  enabled  OK\n",
    "        @jupyterlab/git v0.8.2  enabled  OK\n",
    "        @jupyterlab/github v1.0.1  enabled  OK\n",
    "        jupyterlab-flake8 v0.4.0  enabled  OK\n",
    "\n",
    "Uninstalled core extensions:\n",
    "    @jupyterlab/github\n",
    "    jupyterlab-flake8\n",
    "```"
   ]
  },
  {
   "cell_type": "code",
   "execution_count": 5,
   "metadata": {
    "Collapsed": "false"
   },
   "outputs": [],
   "source": [
    "#!jupyter --version"
   ]
  },
  {
   "cell_type": "code",
   "execution_count": 4,
   "metadata": {
    "Collapsed": "false"
   },
   "outputs": [],
   "source": [
    "#!jupyter-labextension list"
   ]
  },
  {
   "cell_type": "markdown",
   "metadata": {
    "Collapsed": "true"
   },
   "source": [
    "## Notebook Configs"
   ]
  },
  {
   "cell_type": "code",
   "execution_count": 6,
   "metadata": {
    "Collapsed": "false"
   },
   "outputs": [],
   "source": [
    "# AUTO GENERATED CELL FOR NOTEBOOK SETUP\n",
    "\n",
    "# NOTEBOOK WIDE MAGICS\n",
    "\n",
    "# Reload all modules before executing a new line\n",
    "%load_ext autoreload\n",
    "%autoreload 2\n",
    "\n",
    "# Abide by PEP8 code style\n",
    "%load_ext pycodestyle_magic\n",
    "%pycodestyle_on\n",
    "\n",
    "# LIBRARY SPECIFIC MAGICS - UNCOMMENT AS NEEDED\n",
    "\n",
    "# Plot all matplotlib plots in output cell and save on close\n",
    "# %matplotlib inline"
   ]
  },
  {
   "cell_type": "code",
   "execution_count": 7,
   "metadata": {
    "Collapsed": "false"
   },
   "outputs": [],
   "source": [
    "import functools"
   ]
  },
  {
   "cell_type": "markdown",
   "metadata": {
    "Collapsed": "false"
   },
   "source": [
    "# Decorators\n",
    "\n",
    "Decorators are wrappers that make code reuse easy. They are function/class wrappers that can be used to modify the input, output or even the function/class itself before execution.\n",
    "\n",
    "> ```python\n",
    "@decorator\n",
    "```"
   ]
  },
  {
   "cell_type": "markdown",
   "metadata": {
    "Collapsed": "false"
   },
   "source": [
    "### A bit more background on when and why decorators make sense to use"
   ]
  },
  {
   "cell_type": "markdown",
   "metadata": {
    "Collapsed": "false"
   },
   "source": [
    "<span style=\"color:red;\">**Note:** Skip this section if you are comfortable with when/where/why you would use decorators.</span>\n",
    "\n",
    "If you are working with a codebase adding new features or getting it ready for production there is a good chance it will be useful to have a set of tools that profile how the code performs based on its application. \n",
    "\n",
    "Maybe you will want to see how a particular function utilizes memory or the CPU. Maybe you have a set of custom debugging tasks that show you memory locations or other thing in a specifc way. Decorators allow you to do these things. \n",
    "\n",
    "They allow you to just \"decorate\" the function/class with a little \"@my_decorator\" keyword above the function/class and viola! You can get a CPU profile, memory profile, memory locations of variables, show local and global vars and values, etc, etc. Whatever you write into the decorator you define. \n",
    "\n",
    "As you can imaging, this can be a very powerful tool! Let's dive in!"
   ]
  },
  {
   "cell_type": "markdown",
   "metadata": {
    "Collapsed": "false"
   },
   "source": [
    "## Basic Decorators"
   ]
  },
  {
   "cell_type": "markdown",
   "metadata": {
    "Collapsed": "false"
   },
   "source": [
    "Define `my_decorator` to take a function then defines an inner function that wraps that function"
   ]
  },
  {
   "cell_type": "code",
   "execution_count": 2,
   "metadata": {
    "Collapsed": "false"
   },
   "outputs": [],
   "source": [
    "# Define a decorator\n",
    "def my_decorator(func):\n",
    "    def wrapper():\n",
    "        print(\"Something is happening before the function is called.\")\n",
    "        func()\n",
    "        print(\"Something is happening after the function is called.\")\n",
    "    return wrapper"
   ]
  },
  {
   "cell_type": "markdown",
   "metadata": {
    "Collapsed": "false"
   },
   "source": [
    "Now we can run a function with the decorator we just created"
   ]
  },
  {
   "cell_type": "code",
   "execution_count": 3,
   "metadata": {
    "Collapsed": "false"
   },
   "outputs": [
    {
     "name": "stdout",
     "output_type": "stream",
     "text": [
      "Something is happening before the function is called.\n",
      "hi\n",
      "Something is happening after the function is called.\n"
     ]
    }
   ],
   "source": [
    "def say_hi():\n",
    "    print(\"hi\")\n",
    "\n",
    "\n",
    "greeting = my_decorator(say_hi)\n",
    "greeting()"
   ]
  },
  {
   "cell_type": "markdown",
   "metadata": {
    "Collapsed": "false"
   },
   "source": [
    "Instead of actually having to wrap the function inside our decorator like we did above\n",
    "\n",
    "```python\n",
    "greeting = my_decorator(say_hi)\n",
    "```\n",
    "\n",
    "we can just use the `@my_decorator` notation to define a decorator (or wrapper) for a function."
   ]
  },
  {
   "cell_type": "code",
   "execution_count": 6,
   "metadata": {
    "Collapsed": "false"
   },
   "outputs": [
    {
     "name": "stdout",
     "output_type": "stream",
     "text": [
      "Something is happening before the function is called.\n",
      "hi\n",
      "Something is happening after the function is called.\n"
     ]
    }
   ],
   "source": [
    "# Use the decorator you defined to wrap a function\n",
    "@my_decorator\n",
    "def say_hi():\n",
    "    print(\"hi\")\n",
    "    \n",
    "say_hi()"
   ]
  },
  {
   "cell_type": "markdown",
   "metadata": {
    "Collapsed": "false"
   },
   "source": [
    "The big take home here is that even though all we did was call `say_hi()`, becuase it was decorated we were actually able to do extra stuff (in this case just print stuff before and after the function call but we'll do more interesting/useful stuff soon)."
   ]
  },
  {
   "cell_type": "markdown",
   "metadata": {
    "Collapsed": "false"
   },
   "source": [
    "### Decorators using functools"
   ]
  },
  {
   "cell_type": "markdown",
   "metadata": {
    "Collapsed": "false"
   },
   "source": [
    "The above example of a decorator is fine if we don't pass any function arguments but as you can see below, it breaks if we try and pass an argument."
   ]
  },
  {
   "cell_type": "code",
   "execution_count": 7,
   "metadata": {
    "Collapsed": "false"
   },
   "outputs": [],
   "source": [
    "@my_decorator\n",
    "def say_hi_2(name):\n",
    "    print(\"hi {}\".format(name))"
   ]
  },
  {
   "cell_type": "code",
   "execution_count": 8,
   "metadata": {
    "Collapsed": "false"
   },
   "outputs": [
    {
     "ename": "TypeError",
     "evalue": "wrapper() takes 0 positional arguments but 1 was given",
     "output_type": "error",
     "traceback": [
      "\u001b[0;31m---------------------------------------------------------------------------\u001b[0m",
      "\u001b[0;31mTypeError\u001b[0m                                 Traceback (most recent call last)",
      "\u001b[0;32m<ipython-input-8-7b1c34028470>\u001b[0m in \u001b[0;36m<module>\u001b[0;34m\u001b[0m\n\u001b[0;32m----> 1\u001b[0;31m \u001b[0msay_hi_2\u001b[0m\u001b[0;34m(\u001b[0m\u001b[0;34m\"james\"\u001b[0m\u001b[0;34m)\u001b[0m\u001b[0;34m\u001b[0m\u001b[0;34m\u001b[0m\u001b[0m\n\u001b[0m",
      "\u001b[0;31mTypeError\u001b[0m: wrapper() takes 0 positional arguments but 1 was given"
     ]
    }
   ],
   "source": [
    "say_hi_2(\"james\")"
   ]
  },
  {
   "cell_type": "markdown",
   "metadata": {
    "Collapsed": "false"
   },
   "source": [
    "To fix this, we (ie preserve all information) we need to use a special decorator called `@functools.wraps`"
   ]
  },
  {
   "cell_type": "code",
   "execution_count": 12,
   "metadata": {
    "Collapsed": "false"
   },
   "outputs": [],
   "source": [
    "def my_decorator2(func):\n",
    "    @functools.wraps(func)\n",
    "    def wrapper_my_decorator(*args, **kwargs):\n",
    "        print(\"Something is happening before the function is called.\")\n",
    "        value = func(*args, **kwargs)\n",
    "        print(\"Something is happening after the function is called.\")\n",
    "        return value\n",
    "    return wrapper_my_decorator"
   ]
  },
  {
   "cell_type": "code",
   "execution_count": 13,
   "metadata": {
    "Collapsed": "false"
   },
   "outputs": [],
   "source": [
    "@my_decorator2\n",
    "def say_hi_2(name):\n",
    "    print(\"hi {}\".format(name))"
   ]
  },
  {
   "cell_type": "code",
   "execution_count": 14,
   "metadata": {
    "Collapsed": "false"
   },
   "outputs": [
    {
     "name": "stdout",
     "output_type": "stream",
     "text": [
      "Something is happening before the function is called.\n",
      "hi james\n",
      "Something is happening after the function is called.\n"
     ]
    }
   ],
   "source": [
    "say_hi_2(\"james\")"
   ]
  },
  {
   "cell_type": "markdown",
   "metadata": {
    "Collapsed": "false"
   },
   "source": [
    "Great! Now lets actually do some useful stuff with decorators"
   ]
  },
  {
   "cell_type": "code",
   "execution_count": null,
   "metadata": {
    "Collapsed": "false"
   },
   "outputs": [],
   "source": []
  },
  {
   "cell_type": "markdown",
   "metadata": {
    "Collapsed": "false"
   },
   "source": [
    "## Practical Examples\n",
    "\n",
    "Examples from https://realpython.com/primer-on-python-decorators"
   ]
  },
  {
   "cell_type": "markdown",
   "metadata": {
    "Collapsed": "false"
   },
   "source": [
    "### Timing using decorators"
   ]
  },
  {
   "cell_type": "code",
   "execution_count": 15,
   "metadata": {
    "Collapsed": "false"
   },
   "outputs": [],
   "source": [
    "import time"
   ]
  },
  {
   "cell_type": "code",
   "execution_count": 16,
   "metadata": {
    "Collapsed": "false"
   },
   "outputs": [],
   "source": [
    "def timer(func):\n",
    "    \"\"\"Print the runtime of the decorated function\"\"\"\n",
    "    @functools.wraps(func)\n",
    "    def wrapper_timer(*args, **kwargs):\n",
    "        start_time = time.perf_counter()\n",
    "        value = func(*args, **kwargs)\n",
    "        end_time = time.perf_counter()\n",
    "        run_time = end_time - start_time\n",
    "        print(f\"Finished {func.__name__!r} in {run_time:.4f} secs\")\n",
    "        return value\n",
    "    return wrapper_timer"
   ]
  },
  {
   "cell_type": "code",
   "execution_count": 20,
   "metadata": {
    "Collapsed": "false"
   },
   "outputs": [],
   "source": [
    "@timer\n",
    "def pass_time(num_times):\n",
    "    for _ in range(num_times):\n",
    "        sum([i**2 for i in range(10000)])"
   ]
  },
  {
   "cell_type": "code",
   "execution_count": 21,
   "metadata": {
    "Collapsed": "false"
   },
   "outputs": [
    {
     "name": "stdout",
     "output_type": "stream",
     "text": [
      "Finished 'pass_time' in 0.0046 secs\n"
     ]
    }
   ],
   "source": [
    "pass_time(1)"
   ]
  },
  {
   "cell_type": "code",
   "execution_count": 22,
   "metadata": {
    "Collapsed": "false"
   },
   "outputs": [
    {
     "name": "stdout",
     "output_type": "stream",
     "text": [
      "Finished 'pass_time' in 3.7255 secs\n"
     ]
    }
   ],
   "source": [
    "pass_time(999)"
   ]
  },
  {
   "cell_type": "markdown",
   "metadata": {
    "Collapsed": "false"
   },
   "source": [
    "### Debugging using decorators"
   ]
  },
  {
   "cell_type": "code",
   "execution_count": 8,
   "metadata": {
    "Collapsed": "false"
   },
   "outputs": [],
   "source": [
    "def debug(func):\n",
    "    \"\"\"Print the function signature and return value\"\"\"\n",
    "    @functools.wraps(func)\n",
    "    def wrapper_debug(*args, **kwargs):\n",
    "        args_repr = [repr(a) for a in args]\n",
    "        kwargs_repr = [f\"{k}={v!r}\" for k, v in kwargs.items()]\n",
    "        signature = \", \".join(args_repr + kwargs_repr)\n",
    "        print(f\"Calling {func.__name__}({signature})\")\n",
    "        value = func(*args, **kwargs)\n",
    "        print(f\"{func.__name__!r} returned {value!r}\")\n",
    "        return value\n",
    "    return wrapper_debug"
   ]
  },
  {
   "cell_type": "code",
   "execution_count": 9,
   "metadata": {
    "Collapsed": "false"
   },
   "outputs": [],
   "source": [
    "@debug\n",
    "def make_greeting(name, age=None):\n",
    "    if age is None:\n",
    "        return f\"Howdy {name}!\"\n",
    "    else:\n",
    "        return f\"Whoa {name}! {age} already, you are growing up!\""
   ]
  },
  {
   "cell_type": "code",
   "execution_count": 10,
   "metadata": {
    "Collapsed": "false"
   },
   "outputs": [
    {
     "name": "stdout",
     "output_type": "stream",
     "text": [
      "Calling make_greeting('Richard', age=112)\n",
      "'make_greeting' returned 'Whoa Richard! 112 already, you are growing up!'\n"
     ]
    },
    {
     "data": {
      "text/plain": [
       "'Whoa Richard! 112 already, you are growing up!'"
      ]
     },
     "execution_count": 10,
     "metadata": {},
     "output_type": "execute_result"
    }
   ],
   "source": [
    "make_greeting(\"Richard\", age=112)"
   ]
  },
  {
   "cell_type": "code",
   "execution_count": 26,
   "metadata": {
    "Collapsed": "false"
   },
   "outputs": [
    {
     "name": "stdout",
     "output_type": "stream",
     "text": [
      "Calling make_greeting(name='Dorrisile', age=116)\n",
      "'make_greeting' returned 'Whoa Dorrisile! 116 already, you are growing up!'\n"
     ]
    },
    {
     "data": {
      "text/plain": [
       "'Whoa Dorrisile! 116 already, you are growing up!'"
      ]
     },
     "execution_count": 26,
     "metadata": {},
     "output_type": "execute_result"
    }
   ],
   "source": [
    "make_greeting(name=\"Dorrisile\", age=116)"
   ]
  },
  {
   "cell_type": "markdown",
   "metadata": {
    "Collapsed": "false"
   },
   "source": [
    "### Very decorative functions"
   ]
  },
  {
   "cell_type": "markdown",
   "metadata": {
    "Collapsed": "false"
   },
   "source": [
    "Note: A function can be very decorative (ie. have multiple decorators):\n",
    "\n",
    "```python\n",
    "@decorator_1\n",
    "@decorator_2\n",
    "@decorator_3\n",
    "def hello():\n",
    "    print('hello')\n",
    "```"
   ]
  }
 ],
 "metadata": {
  "kernelspec": {
   "display_name": "Python 3",
   "language": "python",
   "name": "python3"
  },
  "language_info": {
   "codemirror_mode": {
    "name": "ipython",
    "version": 3
   },
   "file_extension": ".py",
   "mimetype": "text/x-python",
   "name": "python",
   "nbconvert_exporter": "python",
   "pygments_lexer": "ipython3",
   "version": "3.7.5"
  },
  "latex_envs": {
   "LaTeX_envs_menu_present": true,
   "autoclose": false,
   "autocomplete": true,
   "bibliofile": "biblio.bib",
   "cite_by": "apalike",
   "current_citInitial": 1,
   "eqLabelWithNumbers": true,
   "eqNumInitial": 1,
   "hotkeys": {
    "equation": "Ctrl-E",
    "itemize": "Ctrl-I"
   },
   "labels_anchors": false,
   "latex_user_defs": false,
   "report_style_numbering": false,
   "user_envs_cfg": false
  }
 },
 "nbformat": 4,
 "nbformat_minor": 4
}
