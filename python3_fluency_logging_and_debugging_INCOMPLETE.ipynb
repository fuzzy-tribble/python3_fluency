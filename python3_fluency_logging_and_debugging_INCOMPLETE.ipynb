{
 "cells": [
  {
   "cell_type": "markdown",
   "metadata": {},
   "source": [
    "# Python3 Fluency Workbook  \n",
    "\n",
    "## Logging and Debugging\n",
    "\n",
    "The purpose of this notebook is to help you get comfortable with logging and debugging in Python3"
   ]
  },
  {
   "cell_type": "markdown",
   "metadata": {},
   "source": [
    "# Overview\n",
    "\n",
    "\n",
    "`doctest` is one of the most useful modules in python; allows you to combine documentaing your code with tests to make sure that it keeps working as its supposted to\n",
    "\n",
    "py.test\n",
    "\n",
    "unittest.mock\n"
   ]
  },
  {
   "cell_type": "markdown",
   "metadata": {},
   "source": []
  },
  {
   "cell_type": "markdown",
   "metadata": {},
   "source": []
  },
  {
   "cell_type": "markdown",
   "metadata": {},
   "source": []
  },
  {
   "cell_type": "markdown",
   "metadata": {},
   "source": [
    "# Code Reuse - decorators and mixins\n",
    "\n",
    "mixins - for code reuse (I dont like decorating)\n",
    "decorators - allows you to have common functionality to common functions? \n",
    "- add functionality in existing funciton without changing the original one\n",
    "\n",
    "Ex Login required checker\n",
    "the decorator checks if user is logged in\n",
    "\n",
    "* positional \n",
    "** keyword\n"
   ]
  },
  {
   "cell_type": "code",
   "execution_count": 4,
   "metadata": {},
   "outputs": [],
   "source": [
    "import functools"
   ]
  },
  {
   "cell_type": "code",
   "execution_count": 3,
   "metadata": {},
   "outputs": [
    {
     "ename": "SyntaxError",
     "evalue": "invalid syntax (<ipython-input-3-09042f2f3d85>, line 3)",
     "output_type": "error",
     "traceback": [
      "\u001b[0;36m  File \u001b[0;32m\"<ipython-input-3-09042f2f3d85>\"\u001b[0;36m, line \u001b[0;32m3\u001b[0m\n\u001b[0;31m    def_eggs(*args, **kwargs):\u001b[0m\n\u001b[0m           ^\u001b[0m\n\u001b[0;31mSyntaxError\u001b[0m\u001b[0;31m:\u001b[0m invalid syntax\n"
     ]
    }
   ],
   "source": [
    "def eggs(function):\n",
    "    @functools.wraps(function)\n",
    "    def_eggs(*args, **kwargs):\n",
    "        return function(*args, **kwargs)\n",
    "    return _eggs"
   ]
  },
  {
   "cell_type": "code",
   "execution_count": null,
   "metadata": {},
   "outputs": [],
   "source": []
  },
  {
   "cell_type": "code",
   "execution_count": null,
   "metadata": {},
   "outputs": [],
   "source": []
  },
  {
   "cell_type": "markdown",
   "metadata": {},
   "source": [
    "Test\n",
    "alphanumeric\n",
    "\n",
    "Always typing ... bla bl abla\n",
    "\n",
    "NO crazy repeats."
   ]
  }
 ],
 "metadata": {
  "kernelspec": {
   "display_name": "Python 3",
   "language": "python",
   "name": "python3"
  },
  "language_info": {
   "codemirror_mode": {
    "name": "ipython",
    "version": 3
   },
   "file_extension": ".py",
   "mimetype": "text/x-python",
   "name": "python",
   "nbconvert_exporter": "python",
   "pygments_lexer": "ipython3",
   "version": "3.7.5"
  },
  "latex_envs": {
   "LaTeX_envs_menu_present": true,
   "autoclose": false,
   "autocomplete": true,
   "bibliofile": "biblio.bib",
   "cite_by": "apalike",
   "current_citInitial": 1,
   "eqLabelWithNumbers": true,
   "eqNumInitial": 1,
   "hotkeys": {
    "equation": "Ctrl-E",
    "itemize": "Ctrl-I"
   },
   "labels_anchors": false,
   "latex_user_defs": false,
   "report_style_numbering": false,
   "user_envs_cfg": false
  }
 },
 "nbformat": 4,
 "nbformat_minor": 2
}
